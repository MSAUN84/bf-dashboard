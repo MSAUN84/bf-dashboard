{
  "cells": [
    {
      "cell_type": "markdown",
      "metadata": {
        "id": "ZE-xYky7hAWi"
      },
      "source": [
        "# Module 3: Data Structures Assignments\n",
        "## Lesson 3.1: Lists\n",
        "### Assignment 1: Creating and Accessing Lists\n",
        "\n",
        "Create a list of the first 20 positive integers. Print the list.\n",
        "\n",
        "### Assignment 2: Accessing List Elements\n",
        "\n",
        "Print the first, middle, and last elements of the list created in Assignment 1.\n",
        "\n",
        "### Assignment 3: List Slicing\n",
        "\n",
        "Print the first five elements, the last five elements, and the elements from index 5 to 15 of the list created in Assignment 1.\n",
        "\n",
        "### Assignment 4: List Comprehensions\n",
        "\n",
        "Create a new list containing the squares of the first 10 positive integers using a list comprehension. Print the new list.\n",
        "\n",
        "### Assignment 5: Filtering Lists\n",
        "\n",
        "Create a new list containing only the even numbers from the list created in Assignment 1 using a list comprehension. Print the new list.\n",
        "\n",
        "### Assignment 6: List Methods\n",
        "\n",
        "Create a list of random numbers and sort it in ascending and descending order. Remove the duplicates from the list and print the modified list.\n",
        "\n",
        "### Assignment 7: Nested Lists\n",
        "\n",
        "Create a nested list representing a 3x3 matrix and print the matrix. Access and print the element at the second row and third column.\n",
        "\n",
        "### Assignment 8: List of Dictionaries\n",
        "\n",
        "Create a list of dictionaries where each dictionary represents a student with keys 'name' and 'score'. Sort the list of dictionaries by the 'score' in descending order and print the sorted list.\n",
        "\n",
        "### Assignment 9: Matrix Transposition\n",
        "\n",
        "Write a function that takes a 3x3 matrix (nested list) as input and returns its transpose. Print the original and transposed matrices.\n",
        "\n",
        "### Assignment 10: Flattening a Nested List\n",
        "\n",
        "Write a function that takes a nested list and flattens it into a single list. Print the original and flattened lists.\n",
        "\n",
        "### Assignment 11: List Manipulation\n",
        "\n",
        "Create a list of the first 10 positive integers. Remove the elements at indices 2, 4, and 6, and insert the element '99' at index 5. Print the modified list.\n",
        "\n",
        "### Assignment 12: List Zipping\n",
        "\n",
        "Create two lists of the same length. Use the `zip` function to combine these lists into a list of tuples and print the result.\n",
        "\n",
        "### Assignment 13: List Reversal\n",
        "\n",
        "Write a function that takes a list and returns a new list with the elements in reverse order. Print the original and reversed lists.\n",
        "\n",
        "### Assignment 14: List Rotation\n",
        "\n",
        "Write a function that rotates a list by n positions. Print the original and rotated lists.\n",
        "\n",
        "### Assignment 15: List Intersection\n",
        "\n",
        "Write a function that takes two lists and returns a new list containing only the elements that are present in both lists. Print the intersected list."
      ],
      "id": "ZE-xYky7hAWi"
    },
    {
      "cell_type": "code",
      "source": [],
      "metadata": {
        "id": "Sdk3lGtkkm_x"
      },
      "id": "Sdk3lGtkkm_x",
      "execution_count": null,
      "outputs": []
    },
    {
      "cell_type": "code",
      "execution_count": 1,
      "metadata": {
        "colab": {
          "base_uri": "https://localhost:8080/"
        },
        "id": "BcHMrtzthAWj",
        "outputId": "ada032bd-a4fa-41a2-e437-35149ddbaa65"
      },
      "outputs": [
        {
          "output_type": "stream",
          "name": "stdout",
          "text": [
            "[1, 2, 3, 4, 5, 6, 7, 8, 9, 10, 11, 12, 13, 14, 15, 16, 17, 18, 19, 20]\n"
          ]
        }
      ],
      "source": [
        "## Assignment 1: Creating and Accessing Lists\n",
        "## Create a list of the first 20 positive integers. Print the list.\n",
        "\n",
        "list1 = list(range(1,21,1))\n",
        "print(list1)"
      ],
      "id": "BcHMrtzthAWj"
    },
    {
      "cell_type": "code",
      "source": [
        "## Assignment 2: Accessing List Elements\n",
        "## Print the first, middle, and last elements of the list created in Assignment 1.\n",
        "\n",
        "len1 = len(list1)\n",
        "print(len1)\n",
        "print(list1[0])\n",
        "print(list1[int(len1/2)])\n",
        "print(list1[int(len1-1)])"
      ],
      "metadata": {
        "colab": {
          "base_uri": "https://localhost:8080/"
        },
        "id": "f5CfUYnmhO8J",
        "outputId": "cb30c9ba-0d05-48a9-bdb8-de697385b66c"
      },
      "id": "f5CfUYnmhO8J",
      "execution_count": 12,
      "outputs": [
        {
          "output_type": "stream",
          "name": "stdout",
          "text": [
            "20\n",
            "1\n",
            "11\n",
            "20\n"
          ]
        }
      ]
    },
    {
      "cell_type": "code",
      "source": [
        "## Assignment 3: List Slicing\n",
        "## Print the first five elements, the last five elements, and the elements from index 5 to 15 of the list created in Assignment 1.\n",
        "print(list1[:5])\n",
        "len1 = len(list1)\n",
        "print(list1[int(len(list1)-6):int(len(list1)-1):1])\n",
        "print(list1[4:15:1])"
      ],
      "metadata": {
        "colab": {
          "base_uri": "https://localhost:8080/"
        },
        "id": "P3he83XaiS6q",
        "outputId": "68d7a5e2-2c98-4994-b1fe-7d2c2ad07d4a"
      },
      "id": "P3he83XaiS6q",
      "execution_count": 23,
      "outputs": [
        {
          "output_type": "stream",
          "name": "stdout",
          "text": [
            "[1, 2, 3, 4, 5]\n",
            "[15, 16, 17, 18, 19]\n",
            "[5, 6, 7, 8, 9, 10, 11, 12, 13, 14, 15]\n"
          ]
        }
      ]
    },
    {
      "cell_type": "code",
      "source": [
        "## Assignment 4: List Comprehensions\n",
        "## Create a new list containing the squares of the first 10 positive integers using a list comprehension. Print the new list\n",
        "list2 = [X**2 for X in range(1,11,1)]\n",
        "print(list2)"
      ],
      "metadata": {
        "colab": {
          "base_uri": "https://localhost:8080/"
        },
        "id": "xnX_-OC0jt3B",
        "outputId": "d3afb77f-6f76-4b4e-9ecd-1e8b0b4189b8"
      },
      "id": "xnX_-OC0jt3B",
      "execution_count": 24,
      "outputs": [
        {
          "output_type": "stream",
          "name": "stdout",
          "text": [
            "[1, 4, 9, 16, 25, 36, 49, 64, 81, 100]\n"
          ]
        }
      ]
    },
    {
      "cell_type": "code",
      "source": [
        "## Assignment 5: Filtering Lists\n",
        "## Create a new list containing only the even numbers from the list created in Assignment 1 using a list comprehension. Print the new list.\n",
        "list3 = [x for x in list1 if x%2==0]\n",
        "print(list3)"
      ],
      "metadata": {
        "colab": {
          "base_uri": "https://localhost:8080/"
        },
        "id": "3o5DFWUHkBUr",
        "outputId": "11db59e8-ec86-4d31-c324-da0fd4976f06"
      },
      "id": "3o5DFWUHkBUr",
      "execution_count": 26,
      "outputs": [
        {
          "output_type": "stream",
          "name": "stdout",
          "text": [
            "[2, 4, 6, 8, 10, 12, 14, 16, 18, 20]\n"
          ]
        }
      ]
    },
    {
      "cell_type": "code",
      "source": [
        "## Assignment 6: List Methods\n",
        "## Create a list of random numbers and sort it in ascending and descending order. Remove the duplicates from the list and print the modified list.\n",
        "import random\n",
        "list4 = [random.randint(1,100) for _ in range(10)]\n",
        "list4.sort()\n",
        "for idx,item in enumerate(list4):\n",
        "  if list4.count(item)>1:\n",
        "    list4.remove(list4[idx])\n",
        "print(list4)"
      ],
      "metadata": {
        "colab": {
          "base_uri": "https://localhost:8080/"
        },
        "id": "YkXE-YAykofQ",
        "outputId": "614ee399-0882-485b-c023-6804ed72163b"
      },
      "id": "YkXE-YAykofQ",
      "execution_count": 38,
      "outputs": [
        {
          "output_type": "stream",
          "name": "stdout",
          "text": [
            "[7, 9, 30, 36, 38, 44, 49, 57, 60, 83]\n"
          ]
        }
      ]
    },
    {
      "cell_type": "code",
      "source": [
        "## Assignment 7: Nested Lists\n",
        "## Create a nested list representing a 3x3 matrix and print the matrix. Access and print the element at the second row and third column.\n",
        "import random\n",
        "list5 = [[random.randint(1,100) for _ in range(3)] for _ in range(3)]\n",
        "for row in range(3):\n",
        "  for col in range(3):\n",
        "    print(list5[row][col],\" \",end=\"\")\n",
        "  print(\" \")\n",
        "\n",
        "row = 1\n",
        "col = 2\n",
        "print(list5[row][col])\n",
        "#print(list5)\n",
        "\n"
      ],
      "metadata": {
        "colab": {
          "base_uri": "https://localhost:8080/"
        },
        "id": "_z4yU8pNnaZo",
        "outputId": "0b51ca94-f998-4a19-8d20-23dcbe644678"
      },
      "id": "_z4yU8pNnaZo",
      "execution_count": 50,
      "outputs": [
        {
          "output_type": "stream",
          "name": "stdout",
          "text": [
            "90  76  24   \n",
            "97  50  89   \n",
            "96  45  34   \n",
            "89\n"
          ]
        }
      ]
    },
    {
      "cell_type": "code",
      "source": [
        "## Assignment 8: List of Dictionaries\n",
        "## Create a list of dictionaries where each dictionary represents a student with keys 'name' and 'score'. Sort the list of dictionaries by the 'score' in descending order and print the sorted list."
      ],
      "metadata": {
        "id": "eJwI-cupqT1A"
      },
      "id": "eJwI-cupqT1A",
      "execution_count": null,
      "outputs": []
    }
  ],
  "metadata": {
    "kernelspec": {
      "display_name": "Python 3",
      "language": "python",
      "name": "python3"
    },
    "language_info": {
      "codemirror_mode": {
        "name": "ipython",
        "version": 3
      },
      "file_extension": ".py",
      "mimetype": "text/x-python",
      "name": "python",
      "nbconvert_exporter": "python",
      "pygments_lexer": "ipython3",
      "version": "3.9.7"
    },
    "colab": {
      "provenance": []
    }
  },
  "nbformat": 4,
  "nbformat_minor": 5
}